{
 "cells": [
  {
   "cell_type": "markdown",
   "metadata": {
    "collapsed": true
   },
   "source": [
    "### Neural Networks\n",
    "In this section we will use Neural Networks to carry out classification on the natural gas data set. A neural network \"learns\" by solving an optimization problem to choose a set of parameters that minimizes an error function, which is typically a squared error loss. The neural network will attempt to find a \"sweet spot\": while the model is highly non-linear, its particular functional form allows for a computationally slick fitting procedure called \"backpropogation\". All we will do here is to \"learn\" by switching between computing the error using the training data and updating the weights by calculating the gradient of the error function. \n",
    "\n",
    "Let us write a class for NeuralNetworks, and we will then apply it to performing classification."
   ]
  },
  {
   "cell_type": "code",
   "execution_count": 1,
   "metadata": {
    "collapsed": false
   },
   "outputs": [],
   "source": [
    "#Neural Network Class \n",
    "class Neural_Net:\n",
    "\n",
    "    #constructor initializes a new neural network with randomly selected weights and pre-specified height, and number of neurons per layer\n",
    "    def __init__(self,non,height):\n",
    "        #list to store the number of neurons in each layer of the network\n",
    "        self.num_of_neurons = non\n",
    "        #height of the network\n",
    "        self.L = height\n",
    "        #list to store number of weights in each layer of the network, indexed by layer, output neuron, input neuron\n",
    "        self.weights = numpy.zeros(shape=(10,10,10))\n",
    "        #delta_matrix: stores the gradient that is used in backpropagation\n",
    "        self.deltas = numpy.zeros(shape=(10,10))\n",
    "        #matrix that stores thresholded signals\n",
    "        self.signals = numpy.zeros(shape=(10,10))\n",
    "        #(tunable) learning_rate used in backpropagation\n",
    "        self.learning_rate = .001\n",
    "        #initialize weights to be between -2 and 2\n",
    "        for i in range(1,self.L+1):\n",
    "            for j in range(1,self.num_of_neurons[i]+1):\n",
    "                for k in range(self.num_of_neurons[i-1]+1):\n",
    "                    self.weights[i][j][k] = random.random()*4-2\n",
    "\n",
    "    #forward_pass computes the output of the neural network given an input\n",
    "    def forward_pass(self,x):\n",
    "        #(for convenience, we index neurons starting at 1 instead of zero)\n",
    "        self.signals[0][0] = -1\n",
    "        for i in range(1,self.num_of_neurons[0]+1):\n",
    "            self.signals[0][i] = x[i-1]\n",
    "        for i in range(1,self.L+1):\n",
    "            self.signals[i][0] = -1\n",
    "            for j in range(1,self.num_of_neurons[i]+1):\n",
    "                self.signals[i][j] = self.compute_signal(i,j)\n",
    "        return self.signals[self.L][1]\n",
    "\n",
    "    #tune_weights performs the backpropagation algorithm given a training example as input\n",
    "    def tune_weights(self,y):\n",
    "        self.deltas[self.L][1] = 2*(self.signals[self.L][1]-y)*(1-math.pow(self.signals[self.L][1],2))\n",
    "        for i in range(self.L-1,0,-1):\n",
    "            for j in range(1,self.num_of_neurons[i]+1):\n",
    "                self.deltas[i][j] = self.compute_delta(i,j)\n",
    "        for i in range(1,self.L+1):\n",
    "            for j in range(1,self.num_of_neurons[i]+1):\n",
    "                for k in range(self.num_of_neurons[i-1]+1):\n",
    "                    self.weights[i][j][k] = self.weights[i][j][k]-self.learning_rate*self.signals[i-1][k]*self.deltas[i][j]\n",
    "\n",
    "    #compute_signal: computes the delta for a given neuron at a given level\n",
    "    def compute_signal(self,level,neuron):\n",
    "        s = 0\n",
    "        for i in range(self.num_of_neurons[level-1]+1):\n",
    "            s += self.weights[level][neuron][i]*self.signals[level-1][i]\n",
    "        return self.g(s)\n",
    "    \n",
    "    #compute_delta: computes the signal s for a given neuron at a given level\n",
    "    def compute_delta(self,level,neuron):\n",
    "        s = 0\n",
    "        for j in range(1,self.num_of_neurons[level+1]+1):\n",
    "            s += self.weights[level+1][j][neuron]*self.deltas[level+1][j]\n",
    "        return (1-math.pow(self.signals[level][neuron],2))*s\n",
    "\n",
    "    #soft threshold function\n",
    "    def g(self,s):\n",
    "        return (math.exp(s)-math.exp(-s))/(math.exp(s)+math.exp(-s))"
   ]
  },
  {
   "cell_type": "code",
   "execution_count": 4,
   "metadata": {
    "collapsed": true
   },
   "outputs": [],
   "source": [
    "%matplotlib inline\n",
    "import pandas as pd\n",
    "import numpy\n",
    "import math\n",
    "import scipy\n",
    "import random\n",
    "import brewer2mpl\n",
    "import matplotlib.pyplot as plt"
   ]
  },
  {
   "cell_type": "markdown",
   "metadata": {},
   "source": [
    "Now let's train a neural network and see how well it performs on the test and training sets from our natural gas dataset epoch by epoch. We instantiate a neural network with one hidden layer with four neurons, and a learning rate of .001. The learning rate is how much we scale the gradient in \"walking\" the parameter space.\n",
    "\n",
    "Let us load our data set"
   ]
  },
  {
   "cell_type": "code",
   "execution_count": 5,
   "metadata": {
    "collapsed": false
   },
   "outputs": [
    {
     "data": {
      "text/html": [
       "<div>\n",
       "<table border=\"1\" class=\"dataframe\">\n",
       "  <thead>\n",
       "    <tr style=\"text-align: right;\">\n",
       "      <th></th>\n",
       "      <th>Days</th>\n",
       "      <th>Date</th>\n",
       "      <th>AveCoalPrice</th>\n",
       "      <th>OilPrice</th>\n",
       "      <th>GrossGasProd</th>\n",
       "      <th>TotGasCons</th>\n",
       "      <th>GasPrice</th>\n",
       "      <th>Weather</th>\n",
       "      <th>WSTAT</th>\n",
       "      <th>GasPriceStatus</th>\n",
       "    </tr>\n",
       "  </thead>\n",
       "  <tbody>\n",
       "    <tr>\n",
       "      <th>0</th>\n",
       "      <td>245</td>\n",
       "      <td>2008-12-31</td>\n",
       "      <td>57.22</td>\n",
       "      <td>41.12</td>\n",
       "      <td>2227.028</td>\n",
       "      <td>2399.702</td>\n",
       "      <td>5.82</td>\n",
       "      <td>WINTER</td>\n",
       "      <td>1</td>\n",
       "      <td>HIGH</td>\n",
       "    </tr>\n",
       "    <tr>\n",
       "      <th>1</th>\n",
       "      <td>276</td>\n",
       "      <td>2009-01-31</td>\n",
       "      <td>54.37</td>\n",
       "      <td>41.71</td>\n",
       "      <td>2251.938</td>\n",
       "      <td>2729.715</td>\n",
       "      <td>5.24</td>\n",
       "      <td>WINTER</td>\n",
       "      <td>1</td>\n",
       "      <td>HIGH</td>\n",
       "    </tr>\n",
       "    <tr>\n",
       "      <th>2</th>\n",
       "      <td>304</td>\n",
       "      <td>2009-02-28</td>\n",
       "      <td>52.30</td>\n",
       "      <td>39.09</td>\n",
       "      <td>2074.167</td>\n",
       "      <td>2332.539</td>\n",
       "      <td>4.52</td>\n",
       "      <td>WINTER</td>\n",
       "      <td>1</td>\n",
       "      <td>HIGH</td>\n",
       "    </tr>\n",
       "    <tr>\n",
       "      <th>3</th>\n",
       "      <td>335</td>\n",
       "      <td>2009-03-31</td>\n",
       "      <td>44.34</td>\n",
       "      <td>47.94</td>\n",
       "      <td>2262.488</td>\n",
       "      <td>2170.709</td>\n",
       "      <td>3.96</td>\n",
       "      <td>WINTER</td>\n",
       "      <td>1</td>\n",
       "      <td>HIGH</td>\n",
       "    </tr>\n",
       "    <tr>\n",
       "      <th>4</th>\n",
       "      <td>365</td>\n",
       "      <td>2009-04-30</td>\n",
       "      <td>41.92</td>\n",
       "      <td>49.65</td>\n",
       "      <td>2147.856</td>\n",
       "      <td>1741.293</td>\n",
       "      <td>3.50</td>\n",
       "      <td>SPRING</td>\n",
       "      <td>0</td>\n",
       "      <td>HIGH</td>\n",
       "    </tr>\n",
       "  </tbody>\n",
       "</table>\n",
       "</div>"
      ],
      "text/plain": [
       "   Days       Date  AveCoalPrice  OilPrice  GrossGasProd  TotGasCons  \\\n",
       "0   245 2008-12-31         57.22     41.12      2227.028    2399.702   \n",
       "1   276 2009-01-31         54.37     41.71      2251.938    2729.715   \n",
       "2   304 2009-02-28         52.30     39.09      2074.167    2332.539   \n",
       "3   335 2009-03-31         44.34     47.94      2262.488    2170.709   \n",
       "4   365 2009-04-30         41.92     49.65      2147.856    1741.293   \n",
       "\n",
       "   GasPrice Weather  WSTAT GasPriceStatus  \n",
       "0      5.82  WINTER      1           HIGH  \n",
       "1      5.24  WINTER      1           HIGH  \n",
       "2      4.52  WINTER      1           HIGH  \n",
       "3      3.96  WINTER      1           HIGH  \n",
       "4      3.50  SPRING      0           HIGH  "
      ]
     },
     "execution_count": 5,
     "metadata": {},
     "output_type": "execute_result"
    }
   ],
   "source": [
    "#load the data for analysis\n",
    "dflog=pd.read_excel(\"data/DataSet_GasPrice_ Outlier_Removed.xlsx\")\n",
    "dflog.head()"
   ]
  },
  {
   "cell_type": "code",
   "execution_count": 6,
   "metadata": {
    "collapsed": false
   },
   "outputs": [
    {
     "data": {
      "text/html": [
       "<div>\n",
       "<table border=\"1\" class=\"dataframe\">\n",
       "  <thead>\n",
       "    <tr style=\"text-align: right;\">\n",
       "      <th></th>\n",
       "      <th>DAYS</th>\n",
       "      <th>DATE</th>\n",
       "      <th>COALP</th>\n",
       "      <th>OILP</th>\n",
       "      <th>GPROD</th>\n",
       "      <th>GCONS</th>\n",
       "      <th>GASP</th>\n",
       "      <th>WEATH</th>\n",
       "      <th>WSTAT</th>\n",
       "      <th>GPSTAT</th>\n",
       "    </tr>\n",
       "  </thead>\n",
       "  <tbody>\n",
       "    <tr>\n",
       "      <th>0</th>\n",
       "      <td>245</td>\n",
       "      <td>2008-12-31</td>\n",
       "      <td>57.22</td>\n",
       "      <td>41.12</td>\n",
       "      <td>2227.028</td>\n",
       "      <td>2399.702</td>\n",
       "      <td>5.82</td>\n",
       "      <td>WINTER</td>\n",
       "      <td>1</td>\n",
       "      <td>HIGH</td>\n",
       "    </tr>\n",
       "    <tr>\n",
       "      <th>1</th>\n",
       "      <td>276</td>\n",
       "      <td>2009-01-31</td>\n",
       "      <td>54.37</td>\n",
       "      <td>41.71</td>\n",
       "      <td>2251.938</td>\n",
       "      <td>2729.715</td>\n",
       "      <td>5.24</td>\n",
       "      <td>WINTER</td>\n",
       "      <td>1</td>\n",
       "      <td>HIGH</td>\n",
       "    </tr>\n",
       "    <tr>\n",
       "      <th>2</th>\n",
       "      <td>304</td>\n",
       "      <td>2009-02-28</td>\n",
       "      <td>52.30</td>\n",
       "      <td>39.09</td>\n",
       "      <td>2074.167</td>\n",
       "      <td>2332.539</td>\n",
       "      <td>4.52</td>\n",
       "      <td>WINTER</td>\n",
       "      <td>1</td>\n",
       "      <td>HIGH</td>\n",
       "    </tr>\n",
       "    <tr>\n",
       "      <th>3</th>\n",
       "      <td>335</td>\n",
       "      <td>2009-03-31</td>\n",
       "      <td>44.34</td>\n",
       "      <td>47.94</td>\n",
       "      <td>2262.488</td>\n",
       "      <td>2170.709</td>\n",
       "      <td>3.96</td>\n",
       "      <td>WINTER</td>\n",
       "      <td>1</td>\n",
       "      <td>HIGH</td>\n",
       "    </tr>\n",
       "    <tr>\n",
       "      <th>4</th>\n",
       "      <td>365</td>\n",
       "      <td>2009-04-30</td>\n",
       "      <td>41.92</td>\n",
       "      <td>49.65</td>\n",
       "      <td>2147.856</td>\n",
       "      <td>1741.293</td>\n",
       "      <td>3.50</td>\n",
       "      <td>SPRING</td>\n",
       "      <td>0</td>\n",
       "      <td>HIGH</td>\n",
       "    </tr>\n",
       "  </tbody>\n",
       "</table>\n",
       "</div>"
      ],
      "text/plain": [
       "   DAYS       DATE  COALP   OILP     GPROD     GCONS  GASP   WEATH  WSTAT  \\\n",
       "0   245 2008-12-31  57.22  41.12  2227.028  2399.702  5.82  WINTER      1   \n",
       "1   276 2009-01-31  54.37  41.71  2251.938  2729.715  5.24  WINTER      1   \n",
       "2   304 2009-02-28  52.30  39.09  2074.167  2332.539  4.52  WINTER      1   \n",
       "3   335 2009-03-31  44.34  47.94  2262.488  2170.709  3.96  WINTER      1   \n",
       "4   365 2009-04-30  41.92  49.65  2147.856  1741.293  3.50  SPRING      0   \n",
       "\n",
       "  GPSTAT  \n",
       "0   HIGH  \n",
       "1   HIGH  \n",
       "2   HIGH  \n",
       "3   HIGH  \n",
       "4   HIGH  "
      ]
     },
     "execution_count": 6,
     "metadata": {},
     "output_type": "execute_result"
    }
   ],
   "source": [
    "#Change the columns name to create attributes and features\n",
    "dflog.columns = ['DAYS', 'DATE', 'COALP', 'OILP', 'GPROD', 'GCONS', 'GASP', 'WEATH', 'WSTAT', 'GPSTAT']\n",
    "dflog.head()"
   ]
  },
  {
   "cell_type": "code",
   "execution_count": 7,
   "metadata": {
    "collapsed": true
   },
   "outputs": [],
   "source": [
    "# Split data into training set and testing set\n",
    "from sklearn.model_selection import train_test_split\n",
    "from sklearn.linear_model import LogisticRegression\n",
    "from sklearn.metrics import accuracy_score\n",
    "\n",
    "# Split the data into a training and test set.\n",
    "Xlr, Xtestlr, ylr, ytestlr = train_test_split(dflog[['GASP','GCONS']].values, \n",
    "                                              (dflog.WSTAT == 0).values,random_state=5)"
   ]
  },
  {
   "cell_type": "code",
   "execution_count": 73,
   "metadata": {
    "collapsed": false
   },
   "outputs": [
    {
     "data": {
      "text/plain": [
       "(78, 2)"
      ]
     },
     "execution_count": 73,
     "metadata": {},
     "output_type": "execute_result"
    }
   ],
   "source": [
    "Xlr.shape"
   ]
  },
  {
   "cell_type": "code",
   "execution_count": 75,
   "metadata": {
    "collapsed": false
   },
   "outputs": [
    {
     "data": {
      "text/plain": [
       "(26, 2)"
      ]
     },
     "execution_count": 75,
     "metadata": {},
     "output_type": "execute_result"
    }
   ],
   "source": [
    "Xtestlr.shape"
   ]
  },
  {
   "cell_type": "code",
   "execution_count": 109,
   "metadata": {
    "collapsed": false
   },
   "outputs": [],
   "source": [
    "#read in the train and test dat, assuming csv format\n",
    "training = Xlr\n",
    "testing = Xtestlr\n",
    "\n",
    "#specify the number of neurons in each layer\n",
    "num_of_neurons = [1]\n",
    "\n",
    "#initialize a new neural network\n",
    "network = Neural_Net(num_of_neurons,0)\n",
    "\n",
    "#store the training error and test error during each epoch\n",
    "training_error = 0\n",
    "test_error = 0\n",
    "\n",
    "#store the training and test error for all epochs\n",
    "train = numpy.zeros(shape = (26))\n",
    "test = numpy.zeros(shape = (26))\n",
    "\n",
    "for epoch in range(26):\n",
    "    training_error = 0\n",
    "    test_error = 0\n",
    "    #compute the test errors\n",
    "    for j in range(26):\n",
    "        test_error = test_error+math.pow(network.forward_pass(testing[j]) - testing[j][1], 2)\n",
    "    #compute the training errors, SEQUENTIALLY. In other words, we perform backpropagation for *every* example\n",
    "    #instead of all at once. \n",
    "    for i in range(78):\n",
    "        training_error = training_error+math.pow(network.forward_pass(training[i])- training[i][1], 2)\n",
    "        network.tune_weights(training[i][0])   \n",
    "    training_error = training_error/78\n",
    "    test_error = test_error/26\n",
    "    train[epoch] = training_error\n",
    "    test[epoch]  = test_error"
   ]
  },
  {
   "cell_type": "code",
   "execution_count": 110,
   "metadata": {
    "collapsed": false
   },
   "outputs": [
    {
     "data": {
      "text/plain": [
       "<matplotlib.text.Text at 0xd8350f0>"
      ]
     },
     "execution_count": 110,
     "metadata": {},
     "output_type": "execute_result"
    },
    {
     "data": {
      "image/png": "[encoded data removed]",
      "text/plain": [
       "<matplotlib.figure.Figure at 0xc70f780>"
      ]
     },
     "metadata": {},
     "output_type": "display_data"
    }
   ],
   "source": [
    "fig, ax = plt.subplots()\n",
    "ax.plot(numpy.arange(26), test, lw=2, label = 'test')\n",
    "ax.plot(numpy.arange(26), train, lw=2, label = 'train')\n",
    "ax.legend(loc=0)\n",
    "ax.set_xlabel('Epoch')\n",
    "ax.set_ylabel('MSE')"
   ]
  },
  {
   "cell_type": "code",
   "execution_count": null,
   "metadata": {
    "collapsed": true
   },
   "outputs": [],
   "source": []
  },
  {
   "cell_type": "code",
   "execution_count": null,
   "metadata": {
    "collapsed": true
   },
   "outputs": [],
   "source": []
  }
 ],
 "metadata": {
  "kernelspec": {
   "display_name": "Python 3",
   "language": "python",
   "name": "python3"
  },
  "language_info": {
   "codemirror_mode": {
    "name": "ipython",
    "version": 3
   },
   "file_extension": ".py",
   "mimetype": "text/x-python",
   "name": "python",
   "nbconvert_exporter": "python",
   "pygments_lexer": "ipython3",
   "version": "3.6.0"
  }
 },
 "nbformat": 4,
 "nbformat_minor": 2
}
