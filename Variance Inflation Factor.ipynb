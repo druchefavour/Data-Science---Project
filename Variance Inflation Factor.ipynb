{
 "cells": [
  {
   "cell_type": "markdown",
   "metadata": {},
   "source": [
    "### Variance Inflation Factor (VIF)\n",
    "The variance inflation factor (VIF) quantifies the severity of multicollinearity among variables in an ordinary least squares regression analysis. It provides an index that measures how much the variance (the square of the estimate's standard deviation) of an estimated regression coefficient is increased because of collinearity."
   ]
  },
  {
   "cell_type": "markdown",
   "metadata": {},
   "source": [
    "#### Colinearity \n",
    "Colinearity is the state where two variables are highly correlated and contain similiar information about the variance within a given dataset. Multicolinearity on the other hand is more troublesome to detect because it emerges when three or more variables, which are highly correlated, are included within a model. To make matters worst multicolinearity can emerge even when isolated pairs of variables are not colinear.\n",
    "\n",
    "#### Steps for Implementing VIF\n",
    "\n",
    "1. Run a multiple regression.\n",
    "2. Calculate the VIF factors.\n",
    "3. Inspect the factors for each predictor variable, if the VIF is between 5-10, multicolinearity is likely present and you should consider dropping the variable."
   ]
  },
  {
   "cell_type": "code",
   "execution_count": 10,
   "metadata": {
    "collapsed": true
   },
   "outputs": [],
   "source": [
    "#Imports\n",
    "import pandas as pd\n",
    "import numpy as np\n",
    "from patsy import dmatrices\n",
    "import statsmodels.api as sm\n",
    "from statsmodels.stats.outliers_influence import variance_inflation_factor"
   ]
  },
  {
   "cell_type": "code",
   "execution_count": 11,
   "metadata": {
    "collapsed": false
   },
   "outputs": [
    {
     "data": {
      "text/html": [
       "<div>\n",
       "<table border=\"1\" class=\"dataframe\">\n",
       "  <thead>\n",
       "    <tr style=\"text-align: right;\">\n",
       "      <th></th>\n",
       "      <th>Days</th>\n",
       "      <th>Date</th>\n",
       "      <th>AveCoalPrice</th>\n",
       "      <th>OilPrice</th>\n",
       "      <th>GrossGasProd</th>\n",
       "      <th>TotGasCons</th>\n",
       "      <th>GasPrice</th>\n",
       "      <th>Weather</th>\n",
       "      <th>GasPriceStatus</th>\n",
       "    </tr>\n",
       "  </thead>\n",
       "  <tbody>\n",
       "    <tr>\n",
       "      <th>0</th>\n",
       "      <td>31</td>\n",
       "      <td>2008-05-31</td>\n",
       "      <td>75.85</td>\n",
       "      <td>125.40</td>\n",
       "      <td>2153.316</td>\n",
       "      <td>1576.387</td>\n",
       "      <td>11.27</td>\n",
       "      <td>SPRING</td>\n",
       "      <td>HIGH</td>\n",
       "    </tr>\n",
       "    <tr>\n",
       "      <th>1</th>\n",
       "      <td>61</td>\n",
       "      <td>2008-06-30</td>\n",
       "      <td>81.18</td>\n",
       "      <td>133.88</td>\n",
       "      <td>2118.791</td>\n",
       "      <td>1604.249</td>\n",
       "      <td>12.69</td>\n",
       "      <td>SUMMER</td>\n",
       "      <td>HIGH</td>\n",
       "    </tr>\n",
       "    <tr>\n",
       "      <th>2</th>\n",
       "      <td>92</td>\n",
       "      <td>2008-07-31</td>\n",
       "      <td>89.19</td>\n",
       "      <td>133.37</td>\n",
       "      <td>2205.260</td>\n",
       "      <td>1708.641</td>\n",
       "      <td>11.09</td>\n",
       "      <td>SUMMER</td>\n",
       "      <td>HIGH</td>\n",
       "    </tr>\n",
       "    <tr>\n",
       "      <th>3</th>\n",
       "      <td>123</td>\n",
       "      <td>2008-08-31</td>\n",
       "      <td>87.05</td>\n",
       "      <td>116.67</td>\n",
       "      <td>2193.566</td>\n",
       "      <td>1682.924</td>\n",
       "      <td>8.26</td>\n",
       "      <td>SUMMER</td>\n",
       "      <td>HIGH</td>\n",
       "    </tr>\n",
       "    <tr>\n",
       "      <th>4</th>\n",
       "      <td>153</td>\n",
       "      <td>2008-09-30</td>\n",
       "      <td>85.63</td>\n",
       "      <td>104.11</td>\n",
       "      <td>1919.520</td>\n",
       "      <td>1460.924</td>\n",
       "      <td>7.67</td>\n",
       "      <td>FALL</td>\n",
       "      <td>HIGH</td>\n",
       "    </tr>\n",
       "  </tbody>\n",
       "</table>\n",
       "</div>"
      ],
      "text/plain": [
       "   Days       Date  AveCoalPrice  OilPrice  GrossGasProd  TotGasCons  \\\n",
       "0    31 2008-05-31         75.85    125.40      2153.316    1576.387   \n",
       "1    61 2008-06-30         81.18    133.88      2118.791    1604.249   \n",
       "2    92 2008-07-31         89.19    133.37      2205.260    1708.641   \n",
       "3   123 2008-08-31         87.05    116.67      2193.566    1682.924   \n",
       "4   153 2008-09-30         85.63    104.11      1919.520    1460.924   \n",
       "\n",
       "   GasPrice Weather GasPriceStatus  \n",
       "0     11.27  SPRING           HIGH  \n",
       "1     12.69  SUMMER           HIGH  \n",
       "2     11.09  SUMMER           HIGH  \n",
       "3      8.26  SUMMER           HIGH  \n",
       "4      7.67    FALL           HIGH  "
      ]
     },
     "execution_count": 11,
     "metadata": {},
     "output_type": "execute_result"
    }
   ],
   "source": [
    "df=pd.read_excel(\"data/DataSet_GasPrice_ Monthly.xlsx\")\n",
    "df.head()"
   ]
  },
  {
   "cell_type": "code",
   "execution_count": 12,
   "metadata": {
    "collapsed": false
   },
   "outputs": [],
   "source": [
    "df = df[['GasPrice','Days', 'AveCoalPrice', 'OilPrice', 'GrossGasProd', 'TotGasCons']].dropna() #subset the dataframe"
   ]
  },
  {
   "cell_type": "markdown",
   "metadata": {},
   "source": [
    "##### Step 1: Run a multiple regression"
   ]
  },
  {
   "cell_type": "code",
   "execution_count": 13,
   "metadata": {
    "collapsed": false
   },
   "outputs": [],
   "source": [
    "%%capture\n",
    "#gather features\n",
    "features = \"+\".join(df.columns)\n",
    "\n",
    "# get y and X dataframes based on this regression:\n",
    "y, X = dmatrices('GasPrice ~' + features, df, return_type='dataframe')"
   ]
  },
  {
   "cell_type": "markdown",
   "metadata": {},
   "source": [
    "##### Step 2: Calculate VIF Factors"
   ]
  },
  {
   "cell_type": "code",
   "execution_count": 14,
   "metadata": {
    "collapsed": true
   },
   "outputs": [],
   "source": [
    "# For each X, calculate VIF and save in dataframe\n",
    "vif = pd.DataFrame()\n",
    "vif[\"VIF Factor\"] = [variance_inflation_factor(X.values, i) for i in range(X.shape[1])]\n",
    "vif[\"features\"] = X.columns"
   ]
  },
  {
   "cell_type": "markdown",
   "metadata": {},
   "source": [
    "##### Step 3: Inspect VIF Factors"
   ]
  },
  {
   "cell_type": "code",
   "execution_count": 15,
   "metadata": {
    "collapsed": false
   },
   "outputs": [
    {
     "data": {
      "text/html": [
       "<div>\n",
       "<table border=\"1\" class=\"dataframe\">\n",
       "  <thead>\n",
       "    <tr style=\"text-align: right;\">\n",
       "      <th></th>\n",
       "      <th>VIF Factor</th>\n",
       "      <th>features</th>\n",
       "    </tr>\n",
       "  </thead>\n",
       "  <tbody>\n",
       "    <tr>\n",
       "      <th>0</th>\n",
       "      <td>577.1</td>\n",
       "      <td>Intercept</td>\n",
       "    </tr>\n",
       "    <tr>\n",
       "      <th>1</th>\n",
       "      <td>3.7</td>\n",
       "      <td>GasPrice</td>\n",
       "    </tr>\n",
       "    <tr>\n",
       "      <th>2</th>\n",
       "      <td>7.7</td>\n",
       "      <td>Days</td>\n",
       "    </tr>\n",
       "    <tr>\n",
       "      <th>3</th>\n",
       "      <td>4.7</td>\n",
       "      <td>AveCoalPrice</td>\n",
       "    </tr>\n",
       "    <tr>\n",
       "      <th>4</th>\n",
       "      <td>1.6</td>\n",
       "      <td>OilPrice</td>\n",
       "    </tr>\n",
       "    <tr>\n",
       "      <th>5</th>\n",
       "      <td>6.6</td>\n",
       "      <td>GrossGasProd</td>\n",
       "    </tr>\n",
       "    <tr>\n",
       "      <th>6</th>\n",
       "      <td>1.2</td>\n",
       "      <td>TotGasCons</td>\n",
       "    </tr>\n",
       "  </tbody>\n",
       "</table>\n",
       "</div>"
      ],
      "text/plain": [
       "   VIF Factor      features\n",
       "0       577.1     Intercept\n",
       "1         3.7      GasPrice\n",
       "2         7.7          Days\n",
       "3         4.7  AveCoalPrice\n",
       "4         1.6      OilPrice\n",
       "5         6.6  GrossGasProd\n",
       "6         1.2    TotGasCons"
      ]
     },
     "execution_count": 15,
     "metadata": {},
     "output_type": "execute_result"
    }
   ],
   "source": [
    "vif.round(1)"
   ]
  },
  {
   "cell_type": "markdown",
   "metadata": {},
   "source": [
    "##### Interpretation\n",
    "As expected, the Gross gas production has been on the increase, therefore has a high variance inflation factor with days. Both variables are likely to \"explain\" the same variance within this dataset. We would need to discard one of these variables before moving on to model building or risk building a model with high multicolinearity."
   ]
  }
 ],
 "metadata": {
  "kernelspec": {
   "display_name": "Python 3",
   "language": "python",
   "name": "python3"
  },
  "language_info": {
   "codemirror_mode": {
    "name": "ipython",
    "version": 3
   },
   "file_extension": ".py",
   "mimetype": "text/x-python",
   "name": "python",
   "nbconvert_exporter": "python",
   "pygments_lexer": "ipython3",
   "version": "3.6.0"
  }
 },
 "nbformat": 4,
 "nbformat_minor": 2
}
