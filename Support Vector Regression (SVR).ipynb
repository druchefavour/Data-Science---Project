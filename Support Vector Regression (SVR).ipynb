{
 "cells": [
  {
   "cell_type": "markdown",
   "metadata": {},
   "source": [
    "### Support Vector Regression (SVR) using linear and non-linear kernels¶\n",
    "The method of Support Vector Classification can be extended to solve regression problems. This method is called Support Vector Regression. Just like in support vector classification, the model produced by Support Vector Regression depends only on a subset of the training data, because the cost function for building the model ignores any training data close to the model prediction.\n",
    "\n",
    "We will generate 1D regression using linear, polynomial and RBF kernels. Let us firstly import the required libraries and upload the natural gas dataset."
   ]
  },
  {
   "cell_type": "code",
   "execution_count": 1,
   "metadata": {
    "collapsed": false
   },
   "outputs": [
    {
     "name": "stdout",
     "output_type": "stream",
     "text": [
      "Automatically created module for IPython interactive environment\n"
     ]
    }
   ],
   "source": [
    "%matplotlib inline\n",
    "\n",
    "import matplotlib.pyplot as plt\n",
    "import pandas as pd\n",
    "\n",
    "print(__doc__)\n",
    "\n",
    "import numpy as np\n",
    "from sklearn.svm import SVR"
   ]
  },
  {
   "cell_type": "code",
   "execution_count": 2,
   "metadata": {
    "collapsed": false
   },
   "outputs": [
    {
     "data": {
      "text/html": [
       "<div>\n",
       "<table border=\"1\" class=\"dataframe\">\n",
       "  <thead>\n",
       "    <tr style=\"text-align: right;\">\n",
       "      <th></th>\n",
       "      <th>Days</th>\n",
       "      <th>Date</th>\n",
       "      <th>AveCoalPrice</th>\n",
       "      <th>OilPrice</th>\n",
       "      <th>GrossGasProd</th>\n",
       "      <th>TotGasCons</th>\n",
       "      <th>GasPrice</th>\n",
       "      <th>Weather</th>\n",
       "      <th>WSTAT</th>\n",
       "      <th>GasPriceStatus</th>\n",
       "      <th>GPSAT</th>\n",
       "      <th>color</th>\n",
       "    </tr>\n",
       "  </thead>\n",
       "  <tbody>\n",
       "    <tr>\n",
       "      <th>0</th>\n",
       "      <td>245</td>\n",
       "      <td>2008-12-31</td>\n",
       "      <td>57.22</td>\n",
       "      <td>41.12</td>\n",
       "      <td>2227.028</td>\n",
       "      <td>2399.702</td>\n",
       "      <td>5.82</td>\n",
       "      <td>WINTER</td>\n",
       "      <td>1</td>\n",
       "      <td>HIGH</td>\n",
       "      <td>1</td>\n",
       "      <td>1</td>\n",
       "    </tr>\n",
       "    <tr>\n",
       "      <th>1</th>\n",
       "      <td>276</td>\n",
       "      <td>2009-01-31</td>\n",
       "      <td>54.37</td>\n",
       "      <td>41.71</td>\n",
       "      <td>2251.938</td>\n",
       "      <td>2729.715</td>\n",
       "      <td>5.24</td>\n",
       "      <td>WINTER</td>\n",
       "      <td>1</td>\n",
       "      <td>HIGH</td>\n",
       "      <td>1</td>\n",
       "      <td>1</td>\n",
       "    </tr>\n",
       "    <tr>\n",
       "      <th>2</th>\n",
       "      <td>304</td>\n",
       "      <td>2009-02-28</td>\n",
       "      <td>52.30</td>\n",
       "      <td>39.09</td>\n",
       "      <td>2074.167</td>\n",
       "      <td>2332.539</td>\n",
       "      <td>4.52</td>\n",
       "      <td>WINTER</td>\n",
       "      <td>1</td>\n",
       "      <td>HIGH</td>\n",
       "      <td>1</td>\n",
       "      <td>1</td>\n",
       "    </tr>\n",
       "    <tr>\n",
       "      <th>3</th>\n",
       "      <td>335</td>\n",
       "      <td>2009-03-31</td>\n",
       "      <td>44.34</td>\n",
       "      <td>47.94</td>\n",
       "      <td>2262.488</td>\n",
       "      <td>2170.709</td>\n",
       "      <td>3.96</td>\n",
       "      <td>WINTER</td>\n",
       "      <td>1</td>\n",
       "      <td>HIGH</td>\n",
       "      <td>1</td>\n",
       "      <td>1</td>\n",
       "    </tr>\n",
       "    <tr>\n",
       "      <th>4</th>\n",
       "      <td>365</td>\n",
       "      <td>2009-04-30</td>\n",
       "      <td>41.92</td>\n",
       "      <td>49.65</td>\n",
       "      <td>2147.856</td>\n",
       "      <td>1741.293</td>\n",
       "      <td>3.50</td>\n",
       "      <td>SPRING</td>\n",
       "      <td>0</td>\n",
       "      <td>HIGH</td>\n",
       "      <td>1</td>\n",
       "      <td>1</td>\n",
       "    </tr>\n",
       "  </tbody>\n",
       "</table>\n",
       "</div>"
      ],
      "text/plain": [
       "   Days       Date  AveCoalPrice  OilPrice  GrossGasProd  TotGasCons  \\\n",
       "0   245 2008-12-31         57.22     41.12      2227.028    2399.702   \n",
       "1   276 2009-01-31         54.37     41.71      2251.938    2729.715   \n",
       "2   304 2009-02-28         52.30     39.09      2074.167    2332.539   \n",
       "3   335 2009-03-31         44.34     47.94      2262.488    2170.709   \n",
       "4   365 2009-04-30         41.92     49.65      2147.856    1741.293   \n",
       "\n",
       "   GasPrice Weather  WSTAT GasPriceStatus  GPSAT  color  \n",
       "0      5.82  WINTER      1           HIGH      1      1  \n",
       "1      5.24  WINTER      1           HIGH      1      1  \n",
       "2      4.52  WINTER      1           HIGH      1      1  \n",
       "3      3.96  WINTER      1           HIGH      1      1  \n",
       "4      3.50  SPRING      0           HIGH      1      1  "
      ]
     },
     "execution_count": 2,
     "metadata": {},
     "output_type": "execute_result"
    }
   ],
   "source": [
    "# Read the data set\n",
    "df=pd.read_excel(\"data/DataSet_GasPrice_ Outlier_Removed.xlsx\")\n",
    "df.head()"
   ]
  },
  {
   "cell_type": "markdown",
   "metadata": {},
   "source": [
    "### Regressing Gas Price against Average Coal Price\n",
    "Let us convert the features: GasPrice and Weather status to numpy arrays"
   ]
  },
  {
   "cell_type": "code",
   "execution_count": 3,
   "metadata": {
    "collapsed": true
   },
   "outputs": [],
   "source": [
    "# Use only one feature\n",
    "X = df.AveCoalPrice[:, np.newaxis]\n",
    "X_temp = X[:,]\n",
    "y = df.GasPrice"
   ]
  },
  {
   "cell_type": "markdown",
   "metadata": {},
   "source": [
    "We will now fit regression models and then compare the results in a plot"
   ]
  },
  {
   "cell_type": "code",
   "execution_count": 4,
   "metadata": {
    "collapsed": false
   },
   "outputs": [],
   "source": [
    "svr_rbf = SVR(kernel='rbf', C=1, gamma=0.5)\n",
    "svr_lin = SVR(kernel='linear', C=1)\n",
    "svr_poly = SVR(kernel='poly', C=1, degree=2)\n",
    "y_rbf = svr_rbf.fit(X, y).predict(X)\n",
    "y_lin = svr_lin.fit(X, y).predict(X)\n",
    "y_poly = svr_poly.fit(X, y).predict(X)"
   ]
  },
  {
   "cell_type": "code",
   "execution_count": 5,
   "metadata": {
    "collapsed": false
   },
   "outputs": [
    {
     "name": "stderr",
     "output_type": "stream",
     "text": [
      "C:\\Users\\Angus\\Anaconda3\\lib\\site-packages\\ipykernel\\__main__.py:4: MatplotlibDeprecationWarning: pyplot.hold is deprecated.\n",
      "    Future behavior will be consistent with the long-time default:\n",
      "    plot commands add elements without first clearing the\n",
      "    Axes and/or Figure.\n",
      "C:\\Users\\Angus\\Anaconda3\\lib\\site-packages\\matplotlib\\__init__.py:917: UserWarning: axes.hold is deprecated. Please remove it from your matplotlibrc and/or style files.\n",
      "  warnings.warn(self.msg_depr_set % key)\n",
      "C:\\Users\\Angus\\Anaconda3\\lib\\site-packages\\matplotlib\\rcsetup.py:152: UserWarning: axes.hold is deprecated, will be removed in 3.0\n",
      "  warnings.warn(\"axes.hold is deprecated, will be removed in 3.0\")\n"
     ]
    },
    {
     "data": {
      "image/png": "[encoded data removed]",
      "text/plain": [
       "<matplotlib.figure.Figure at 0xa4b2978>"
      ]
     },
     "metadata": {},
     "output_type": "display_data"
    }
   ],
   "source": [
    "# plot the results\n",
    "lw = 2\n",
    "plt.scatter(X, y, color='darkorange', label='data')\n",
    "plt.hold('on')\n",
    "plt.plot(X_temp, y_rbf, color='navy', lw=lw, label='RBF model')\n",
    "plt.plot(X, y_lin, color='c', lw=lw, label='Linear model')\n",
    "plt.plot(X, y_poly, color='cornflowerblue', lw=lw, label='Polynomial model')\n",
    "plt.xlabel('data')\n",
    "plt.ylabel('target')\n",
    "plt.title('Support Vector Regression')\n",
    "plt.legend()\n",
    "plt.show()"
   ]
  },
  {
   "cell_type": "code",
   "execution_count": null,
   "metadata": {
    "collapsed": false
   },
   "outputs": [],
   "source": [
    "# convert dfcoal to and the target 'WSTAT' column to numpy array\n",
    "X = df.GasPrice.values\n",
    "y = df.WSTAT.values"
   ]
  },
  {
   "cell_type": "code",
   "execution_count": null,
   "metadata": {
    "collapsed": false
   },
   "outputs": [],
   "source": [
    "X.shape"
   ]
  },
  {
   "cell_type": "code",
   "execution_count": null,
   "metadata": {
    "collapsed": false
   },
   "outputs": [],
   "source": [
    "X.reshape(-1, 1)"
   ]
  },
  {
   "cell_type": "code",
   "execution_count": null,
   "metadata": {
    "collapsed": false
   },
   "outputs": [],
   "source": [
    "X.shape"
   ]
  },
  {
   "cell_type": "code",
   "execution_count": null,
   "metadata": {
    "collapsed": false
   },
   "outputs": [],
   "source": [
    "svr_rbf = SVR(kernel='rbf', C=1e3, gamma=0.1)\n",
    "svr_lin = SVR(kernel='linear', C=1e3)\n",
    "svr_poly = SVR(kernel='poly', C=1e3, degree=2)\n",
    "y_rbf = svr_rbf.fit(X, y).predict(X)\n",
    "y_lin = svr_lin.fit(X, y).predict(X)\n",
    "y_poly = svr_poly.fit(X, y).predict(X)"
   ]
  },
  {
   "cell_type": "code",
   "execution_count": null,
   "metadata": {
    "collapsed": true
   },
   "outputs": [],
   "source": []
  },
  {
   "cell_type": "code",
   "execution_count": null,
   "metadata": {
    "collapsed": false
   },
   "outputs": [],
   "source": [
    "import numpy as np\n",
    "import pylab as pl\n",
    "import pandas as pd\n",
    "\n",
    "from sklearn import svm\n",
    "from sklearn import linear_model\n",
    "from sklearn import tree\n",
    "\n",
    "from sklearn.metrics import confusion_matrix\n",
    "\n",
    "x_min, x_max = 0, 15\n",
    "y_min, y_max = 0, 10\n",
    "step = .1\n",
    "# to plot the boundary, we're going to create a matrix of every possible point\n",
    "# then label each point as a wolf or cow using our classifier\n",
    "xx, yy = np.meshgrid(np.arange(x_min, x_max, step), np.arange(y_min, y_max, step))\n",
    "\n",
    "df = pd.DataFrame(data={'X': xx.ravel(), 'Y': yy.ravel()})\n",
    "\n",
    "df['color_gauge'] = (df.X-7.5)**2 + (df.Y-5)**2\n",
    "df['color'] = df.color_gauge.apply(lambda X: \"red\" if X <= 15 else \"green\")\n",
    "df['color_as_int'] = df.color.apply(lambda X: 0 if X==\"red\" else 1)\n",
    "\n",
    "print (\"Points on flag:\")\n",
    "print (df.groupby('color').size())\n",
    "print\n",
    "\n",
    "figure = 1\n",
    "\n",
    "# plot a figure for the entire dataset\n",
    "for color in df.color.unique():\n",
    "    idx = df.color==color\n",
    "    pl.subplot(2, 2, figure)\n",
    "    pl.scatter(df[idx].X, df[idx].Y, color=color)\n",
    "    pl.title('Actual')\n",
    "\n",
    "\n",
    "#train_idx = df.x < 10\n",
    "\n",
    "train = X_train\n",
    "test =  X_test\n",
    "\n",
    "#train = df[train_idx]\n",
    "#test = df[-train_idx]\n",
    "\n",
    "\n",
    "print (\"Training Set Size: %d\" % len(train))\n",
    "print (\"Test Set Size: %d\" % len(test))\n",
    "\n",
    "# train using the x and y position coordiantes\n",
    "cols = [\"X\", \"Y\"]\n",
    "\n",
    "clfs = {\n",
    "    \"SVM\": svm.SVC(degree=0.5),\n",
    "    \"Logistic\" : linear_model.LogisticRegression(),\n",
    "    \"Decision Tree\": tree.DecisionTreeClassifier()\n",
    "}\n",
    "\n",
    "\n",
    "# racehorse different classifiers and plot the results\n",
    "for clf_name, clf in clfs.items():\n",
    "    figure += 1\n",
    "\n",
    "    # train the classifier\n",
    "    clf.fit(X_train, y_train)\n",
    "\n",
    "    # get the predicted values from the test set\n",
    "    test = clf.predict(X_test)\n",
    "    y_test = test.apply(lambda x: \"red\" if x==0 else \"green\")\n",
    "\n",
    "    # create a new subplot on the plot\n",
    "    pl.subplot(2, 2, figure)\n",
    "    # plot each predicted color\n",
    "    for color in test.pred_color.unique():\n",
    "        # plot only rows where pred_color is equal to color\n",
    "        idx = test.pred_color==color\n",
    "        pl.scatter(test[idx].X, test[idx].Y, color=color)\n",
    "\n",
    "    # plot the training set as well\n",
    "    for color in train.color.unique():\n",
    "        idx = train.color==color\n",
    "        pl.scatter(train[idx].X, train[idx].Y, color=color)\n",
    "\n",
    "    # add a dotted line to show the boundary between the training and test set\n",
    "    # (everything to the right of the line is in the test set)\n",
    "    #this plots a vertical line\n",
    "    train_line_y = np.linspace(y_min, y_max) #evenly spaced array from 0 to 10\n",
    "    train_line_x = np.repeat(10, len(train_line_y)) #repeat 10 (threshold for traininset) n times\n",
    "    # add a black, dotted line to the subplot\n",
    "    pl.plot(train_line_x, train_line_y, 'k--', color=\"black\")\n",
    "\n",
    "    pl.title(clf_name)\n",
    "\n",
    "    print (\"Confusion Matrix for %s:\" % clf_name)\n",
    "    print (confusion_matrix(test.color, test.pred_color))\n",
    "pl.show()"
   ]
  },
  {
   "cell_type": "code",
   "execution_count": null,
   "metadata": {
    "collapsed": false
   },
   "outputs": [],
   "source": [
    "test[cols]"
   ]
  },
  {
   "cell_type": "code",
   "execution_count": null,
   "metadata": {
    "collapsed": true
   },
   "outputs": [],
   "source": []
  }
 ],
 "metadata": {
  "kernelspec": {
   "display_name": "Python 3",
   "language": "python",
   "name": "python3"
  },
  "language_info": {
   "codemirror_mode": {
    "name": "ipython",
    "version": 3
   },
   "file_extension": ".py",
   "mimetype": "text/x-python",
   "name": "python",
   "nbconvert_exporter": "python",
   "pygments_lexer": "ipython3",
   "version": "3.6.0"
  }
 },
 "nbformat": 4,
 "nbformat_minor": 2
}
