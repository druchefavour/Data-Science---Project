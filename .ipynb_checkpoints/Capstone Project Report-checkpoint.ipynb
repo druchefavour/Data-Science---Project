{
 "cells": [
  {
   "cell_type": "markdown",
   "metadata": {},
   "source": [
    "# US Natural Gas Prices - Future Performances \n",
    "\n",
    "The growth of the energy sector is challenged by what would appear to be an enduring era of low cost natural gas. In 2015, Natural gas was the nation's second-largest source of energy in the United States, after petroleum. Gas provided 29 percent of the energy consumed. It has been the largest source of electrical generation in the United States since July 2015. In 2012, the US produced 25.3 trillion cubic feet of marketed natural gas, with an average wellhead value of 2.66 US Dollars per thousand cubic feet, for a total wellhead value of 67.3 billion US Dollars.\n",
    "\n",
    "\n",
    "\n",
    "This project will evaluate the trend in natural gas supply and demand dynamics and the impact on natural gas prices in the next years. Understanding trends in natural gas prices, consumption and sales would help investors make informed decision on product investment and predict growth dynamics in the market. Therefore one of the main focuses of this project is to analyze historical natural gas prices, establish relationship between this parameter with sales volume and demand. The prices will be compared to crude oil prices. An assessment of the market behavior of these products will enable E&P companies make informed decision on future investment in the industry. \n",
    "\n",
    "Natural gas is a gas that consists primarily of methane and is an important fuel source around the world. Natural gas is generally created using one of two mechanisms: biogenic and thermogenic. Biogenic is created by methanogenic lifeforms that exist in shallow waters or landfills while further down in the earth thermogenic gas is created from organic material that has been buried for a great deal of time.\n",
    "\n",
    "Natural gas is a major source of power generation, especially for heating and cooling systems in the U.S. Generally, the product is used to either power gas turbines or burned to create steam and power steam turbines instead. The fuel is often preferred to coal or oil since it is far cleaner and produces less greenhouse gases than its other fossil fuel cousins.\n",
    "\n",
    "DATA FOR THE STUDY\n",
    "Data for this study will be obtained from the United States Energy information Administration ; Petroleum Product Data; Gas Price Data. Alternative data source is the Henry Hub Natural Gas Spot Price: Henry Hub Spot Price Data\n",
    "\n",
    "The study will include a compilation and analysis of certain oil and gas information as reported by publicly In EIA and will include data on US exploration and production (E&P) results for the period between 1964 through 2015. Oil prices: Oil Price Data || Production Data\n",
    "\n",
    "PERFORMANCE INDICATORS\n",
    "Key performance measures and indicators would be predicted using available data. Most of the measures would be calculated based on the natural gas and spot oil price information recorded in the data base. Descriptions of some of the metrics are given below:\n",
    "\n",
    "Average Natural Gas Price per Mcf\n",
    "Average natural gas price is the price companies pay for natural gas. Because the price of natural gas can vary dramatically with commodities market movements these companies will often hedge the risk of unexpected price movements by investing in commodities futures. By doing so they are able to effectively lock in a price for the commodity over a given time period and avoid unexpected increases in the commodities' price. As such, it can be useful to predict future trends in the the average price these companies pay for the natural gas to help them in their planning.\n",
    "\n",
    "Natural Gas Storage Days of Demand \n",
    "It is important to us to compare the data available to access the performance of the working gas storage against the 5-year average. This is obtained by dividing the overall storage by days of demand and the measure gives a better sense of the relative adequacy of inventories to meet demand\n",
    "\n",
    "Henry Hub index\n",
    "It is also useful to generate indexes and compare them with Henry Hub index which until recently is the most widely used reference for US natural gas prices.\n",
    "\n",
    "The Henry Hub is a distribution hub on the natural gas pipeline system in Erath, Louisiana, owned by Sabine Pipe Line LLC, a subsidiary of EnLink Midstream Partners LP who purchased the asset from Chevron Corporation in 2014. Due to its importance, it lends its name to the pricing point for natural gas futures contracts traded on the New York Mercantile Exchange (NYMEX) and the OTC swaps traded on Intercontinental Exchange (ICE)\n",
    "\n",
    "ALTERNATIVE HYPOTHESIS TO BE TESTED\n",
    "Existing theories about Natural gas prices performance has been based on the thinking that, as with other commodity prices, these prices are mainly driven by supply and demand fundamentals. It is believed that natural gas prices may also be linked to the price of crude oil and/or petroleum products. In the United States Natural gas prices had historically followed oil prices, but recent studies have shown that in recent years Natural gas prices have decoupled from oil and are now trending somewhat with coal prices. This is an alternative hypothesis that could be tested by the project. The forward outlook of Natural gas prices will be assessed and inferences drawn. \n",
    "\n",
    "DELIVERABLES\n",
    "The key deliverables for this project include the following:\n",
    "\n",
    "1.Code: Every code written for the project will be saved in github Github\n",
    "2.Final Report: A final report summarizing the problem statement, approach to solving the problem, recommendations and suggestions for further work on the projects would be prepared.\n",
    "3.Slides: Presentation slides will be prepared on the result of the project \n",
    "4.Presentation: Final presentation will be made during one of the office hours. A video of the process and results will also be prepared and saved in the git repository."
   ]
  },
  {
   "cell_type": "code",
   "execution_count": null,
   "metadata": {
    "collapsed": true
   },
   "outputs": [],
   "source": []
  },
  {
   "cell_type": "code",
   "execution_count": null,
   "metadata": {
    "collapsed": true
   },
   "outputs": [],
   "source": []
  }
 ],
 "metadata": {
  "kernelspec": {
   "display_name": "Python 3",
   "language": "python",
   "name": "python3"
  },
  "language_info": {
   "codemirror_mode": {
    "name": "ipython",
    "version": 3
   },
   "file_extension": ".py",
   "mimetype": "text/x-python",
   "name": "python",
   "nbconvert_exporter": "python",
   "pygments_lexer": "ipython3",
   "version": "3.6.0"
  }
 },
 "nbformat": 4,
 "nbformat_minor": 2
}
