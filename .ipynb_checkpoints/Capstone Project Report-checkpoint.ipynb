{
 "cells": [
  {
   "cell_type": "markdown",
   "metadata": {},
   "source": [
    "# US Natural Gas Prices - Future Performances \n",
    "\n",
    "Natural gas is an important fuel source around the world. It consists primarily of methane and it is created using one of two mechanisms: biogenic and thermogenic. Biogenic gas is created by methanogenic lifeforms that exist in shallow waters or landfills, while further down in the earth thermogenic gas is created from organic material that has been buried for a great deal of time. Natural gas is a major source of power generation, especially for heating and cooling systems in the U.S. Generally, the product is used to either power gas turbines or burned to create steam and power steam turbines instead. The fuel is often preferred to coal or oil since it is far cleaner and produces less greenhouse gases than its other fossil fuel cousins.\n",
    "\n",
    "In 2015, Natural gas was the nation's second-largest source of energy in the United States, after petroleum. Gas provided 29 percent of the energy consumed. It has been the largest source of electrical generation in the United States since July 2015. In 2012, the US produced 25.3 trillion cubic feet of marketed natural gas, with an average wellhead value of 2.66 US Dollars per thousand cubic feet, for a total wellhead value of 67.3 billion US Dollars. The natural gas industry includes exploration for, production, processing, transportation, storage, and marketing of natural gas and natural gas liquids. The exploration for and production of natural gas and petroleum form a single industry, and many wells produce both oil and gas.\n",
    "\n",
    "The growth of the energy sector is challenged by what would appear to be an enduring era of low cost natural gas. Since the price of natural gas was deregulated in the 1990s, its price has tended to parallel that of oil, with oil usually at a premium on a BTU basis. But starting in the late 2000s, an abundance of natural gas in North America has caused the price of a unit of energy from gas to be much lower than the price of energy from oil.\n",
    "\n",
    "The most commonly quoted producer price for natural gas is the Louisiana-based Henry Hub price, which is futures-traded on NYMEX. A barrel of oil releases about 5.8 million BTU when burned, so that 5.8 MCF of gas (at the standard one thousand BTU per cubic foot) releases about the same energy as a barrel of oil. Sometimes gas containing 5.8 million BTU is defined as a \"barrel of oil equivalent for energy calculation purposes. When describing reserves or production, however, the oil and gas industry more commonly uses the rounded number of 6 MCF of gas (or 6 million BTU in the natural gas) as equal to one barrel of oil equivalent.\n",
    "\n",
    "In this project the key factors that would determine future performances of natural gas prices have been explored. One of those key factors is the natural gas supply and demand dynamics and their impact on natural gas prices in the next years. Understanding these dynamics, consumption and sales would help investors make informed decision on product investment and predict growth in the market. The project therefore analyzes historical natural gas prices and establishes relationships between key parameters. The prices have been compared with crude oil prices and Coal Prices (Another major source of energy in the United States).  \n",
    "\n",
    "_____________________________________________________________________________________________________________________\n",
    "\n",
    "\n",
    "\n",
    "DATA FOR THE STUDY\n",
    "Data for this study will be obtained from the United States Energy information Administration ; Petroleum Product Data; Gas Price Data. Alternative data source is the Henry Hub Natural Gas Spot Price: Henry Hub Spot Price Data\n",
    "\n",
    "The study will include a compilation and analysis of certain oil and gas information as reported by publicly In EIA and will include data on US exploration and production (E&P) results for the period between 1964 through 2015. Oil prices: Oil Price Data || Production Data\n",
    "\n",
    "PERFORMANCE INDICATORS\n",
    "Key performance measures and indicators would be predicted using available data. Most of the measures would be calculated based on the natural gas and spot oil price information recorded in the data base. Descriptions of some of the metrics are given below:\n",
    "\n",
    "Average Natural Gas Price per Mcf\n",
    "Average natural gas price is the price companies pay for natural gas. Because the price of natural gas can vary dramatically with commodities market movements these companies will often hedge the risk of unexpected price movements by investing in commodities futures. By doing so they are able to effectively lock in a price for the commodity over a given time period and avoid unexpected increases in the commodities' price. As such, it can be useful to predict future trends in the the average price these companies pay for the natural gas to help them in their planning.\n",
    "\n",
    "Natural Gas Storage Days of Demand \n",
    "It is important to us to compare the data available to access the performance of the working gas storage against the 5-year average. This is obtained by dividing the overall storage by days of demand and the measure gives a better sense of the relative adequacy of inventories to meet demand\n",
    "\n",
    "Henry Hub index\n",
    "It is also useful to generate indexes and compare them with Henry Hub index which until recently is the most widely used reference for US natural gas prices.\n",
    "\n",
    "The Henry Hub is a distribution hub on the natural gas pipeline system in Erath, Louisiana, owned by Sabine Pipe Line LLC, a subsidiary of EnLink Midstream Partners LP who purchased the asset from Chevron Corporation in 2014. Due to its importance, it lends its name to the pricing point for natural gas futures contracts traded on the New York Mercantile Exchange (NYMEX) and the OTC swaps traded on Intercontinental Exchange (ICE)\n",
    "\n",
    "ALTERNATIVE HYPOTHESIS TO BE TESTED\n",
    "Existing theories about Natural gas prices performance has been based on the thinking that, as with other commodity prices, these prices are mainly driven by supply and demand fundamentals. It is believed that natural gas prices may also be linked to the price of crude oil and/or petroleum products. In the United States Natural gas prices had historically followed oil prices, but recent studies have shown that in recent years Natural gas prices have decoupled from oil and are now trending somewhat with coal prices. This is an alternative hypothesis that could be tested by the project. The forward outlook of Natural gas prices will be assessed and inferences drawn. \n",
    "\n",
    "DELIVERABLES\n",
    "The key deliverables for this project include the following:\n",
    "\n",
    "1.Code: Every code written for the project will be saved in github Github\n",
    "2.Final Report: A final report summarizing the problem statement, approach to solving the problem, recommendations and suggestions for further work on the projects would be prepared.\n",
    "3.Slides: Presentation slides will be prepared on the result of the project \n",
    "4.Presentation: Final presentation will be made during one of the office hours. A video of the process and results will also be prepared and saved in the git repository.\n",
    "\n",
    "______________________________________________________________________________________________________________\n",
    "## Boosting accurracy of the machine learning model \n",
    "Boosting is a popular machine learning algorithm that increases accuracy of the model, something like when racers use nitrous boost to increase the speed of their car. Boosting uses a base machine learning algorithm to fit the data. This can be any algorithm. In this project, Decision Tree, Random Forest, ExtraTree, AdaBoost and Gradient Boosted Regression Trees have been used.  \n",
    "\n",
    "One key technique applied in in our decision trees is Bootstrapping. Prediction accuracy in learning a decision tree to predict the price of natural gas based on 104 inputs is low (0.67), given the problem of variance it suffers from. This means that if we split the training data into two parts at random, and fit a decision tree to both halves, the results that we may get could be quite different. What we really want is a result that has low variance if applied repeatedly to distinct data sets.\n",
    "\n",
    "The prediction accuracy of our Decision Trees have been improved using Bootstrapping. We created 100 random sub-samples of our dataset with replacement (meaning we can select the same value multiple times). We learned (train) a decision tree on each sample. Then given new dataset, we calculated the prediction for each sub-sample. We finally calculated the average of all of our collected predictions(also called bootstrap estimates) and use that as our estimated prediction for the data.\n",
    "\n",
    "The same procedure was used for other classification trees. Bootstrapping is a powerful statistical method for estimating a quantity from a data sample. Quantity can be a descriptive statistic such as a mean or a standard deviation. The application of the Bootstrapping procedure to a high-variance machine learning algorithm, typically decision trees, is known as Bagging (or bootstrap aggregating).\n",
    "\n",
    "Using boostrapping, the prediction accuracy of the Decision Trees was improved from 67% to 69%.\n",
    "\n",
    "### ExtraTrees\n",
    "\n",
    "\n",
    "### Random Forest\n",
    "The prediction accuracy of the Bagged Trees have been improved using Random Forests. The procedure is to chose a random sample of m predictors as split candidates from the full set of p predictors while splitting branches of any tree. The split is then allowed to only use one of those m predictors. A fresh sample of m predictors is taken at each split. Different values coould be tried and tuned using cross validation. For classification a good default is: m = sqrt(p) while for regression a good default is: m = p/3. Therefore, on average, (p — m) / p of the splits will not even consider the strong predictor. This is known as decorrelating the trees, as we fix the issue of each tree using same strong predictor. If m = p then random forests is equal to bagging. The random forest classification using our data set resulted in an improvement of the prediction accuracy to 78%."
   ]
  },
  {
   "cell_type": "code",
   "execution_count": null,
   "metadata": {
    "collapsed": true
   },
   "outputs": [],
   "source": []
  },
  {
   "cell_type": "code",
   "execution_count": null,
   "metadata": {
    "collapsed": true
   },
   "outputs": [],
   "source": []
  }
 ],
 "metadata": {
  "kernelspec": {
   "display_name": "Python 3",
   "language": "python",
   "name": "python3"
  },
  "language_info": {
   "codemirror_mode": {
    "name": "ipython",
    "version": 3
   },
   "file_extension": ".py",
   "mimetype": "text/x-python",
   "name": "python",
   "nbconvert_exporter": "python",
   "pygments_lexer": "ipython3",
   "version": "3.6.0"
  }
 },
 "nbformat": 4,
 "nbformat_minor": 2
}
