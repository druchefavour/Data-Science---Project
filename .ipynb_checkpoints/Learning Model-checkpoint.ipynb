{
 "cells": [
  {
   "cell_type": "code",
   "execution_count": 2,
   "metadata": {
    "collapsed": false
   },
   "outputs": [],
   "source": [
    "%matplotlib inline\n",
    "import numpy as np\n",
    "import scipy as sp\n",
    "import pandas as pd\n",
    "import matplotlib as mpl\n",
    "import matplotlib.cm as cm\n",
    "import matplotlib.pyplot as plt\n",
    "import pandas as pd\n",
    "pd.set_option('display.width', 500)\n",
    "pd.set_option('display.max_columns', 100)\n",
    "pd.set_option('display.notebook_repr_html', True)\n",
    "import seaborn as sns\n",
    "sns.set_style(\"whitegrid\")\n",
    "sns.set_context(\"poster\")"
   ]
  },
  {
   "cell_type": "code",
   "execution_count": 3,
   "metadata": {
    "collapsed": true
   },
   "outputs": [],
   "source": [
    "def make_simple_plot():\n",
    "    fig, axes=plt.subplots(figsize=(12,5), nrows=1, ncols=2);\n",
    "    axes[0].set_ylabel(\"$y$\")\n",
    "    axes[0].set_xlabel(\"$x$\")\n",
    "    axes[1].set_xlabel(\"$x$\")\n",
    "    axes[1].set_yticklabels([])\n",
    "    axes[0].set_ylim([-2,2])\n",
    "    axes[1].set_ylim([-2,2])\n",
    "    plt.tight_layout();\n",
    "    return axes\n",
    "def make_plot():\n",
    "    fig, axes=plt.subplots(figsize=(20,8), nrows=1, ncols=2);\n",
    "    axes[0].set_ylabel(\"$p_R$\")\n",
    "    axes[0].set_xlabel(\"$x$\")\n",
    "    axes[1].set_xlabel(\"$x$\")\n",
    "    axes[1].set_yticklabels([])\n",
    "    axes[0].set_ylim([0,1])\n",
    "    axes[1].set_ylim([0,1])\n",
    "    axes[0].set_xlim([0,1])\n",
    "    axes[1].set_xlim([0,1])\n",
    "    plt.tight_layout();\n",
    "    return axes"
   ]
  },
  {
   "cell_type": "code",
   "execution_count": 3,
   "metadata": {
    "collapsed": false
   },
   "outputs": [
    {
     "data": {
      "text/html": [
       "<div>\n",
       "<table border=\"1\" class=\"dataframe\">\n",
       "  <thead>\n",
       "    <tr style=\"text-align: right;\">\n",
       "      <th></th>\n",
       "      <th>Days</th>\n",
       "      <th>Date</th>\n",
       "      <th>AveCoalPrice</th>\n",
       "      <th>OilPrice</th>\n",
       "      <th>GrossGasProd</th>\n",
       "      <th>TotGasCons</th>\n",
       "      <th>GasPrice</th>\n",
       "      <th>Weather</th>\n",
       "      <th>WSTAT</th>\n",
       "      <th>GasPriceStatus</th>\n",
       "    </tr>\n",
       "  </thead>\n",
       "  <tbody>\n",
       "    <tr>\n",
       "      <th>0</th>\n",
       "      <td>245</td>\n",
       "      <td>2008-12-31</td>\n",
       "      <td>57.22</td>\n",
       "      <td>41.12</td>\n",
       "      <td>2227.028</td>\n",
       "      <td>2399.702</td>\n",
       "      <td>5.82</td>\n",
       "      <td>WINTER</td>\n",
       "      <td>1</td>\n",
       "      <td>HIGH</td>\n",
       "    </tr>\n",
       "    <tr>\n",
       "      <th>1</th>\n",
       "      <td>276</td>\n",
       "      <td>2009-01-31</td>\n",
       "      <td>54.37</td>\n",
       "      <td>41.71</td>\n",
       "      <td>2251.938</td>\n",
       "      <td>2729.715</td>\n",
       "      <td>5.24</td>\n",
       "      <td>WINTER</td>\n",
       "      <td>1</td>\n",
       "      <td>HIGH</td>\n",
       "    </tr>\n",
       "    <tr>\n",
       "      <th>2</th>\n",
       "      <td>304</td>\n",
       "      <td>2009-02-28</td>\n",
       "      <td>52.30</td>\n",
       "      <td>39.09</td>\n",
       "      <td>2074.167</td>\n",
       "      <td>2332.539</td>\n",
       "      <td>4.52</td>\n",
       "      <td>WINTER</td>\n",
       "      <td>1</td>\n",
       "      <td>HIGH</td>\n",
       "    </tr>\n",
       "    <tr>\n",
       "      <th>3</th>\n",
       "      <td>335</td>\n",
       "      <td>2009-03-31</td>\n",
       "      <td>44.34</td>\n",
       "      <td>47.94</td>\n",
       "      <td>2262.488</td>\n",
       "      <td>2170.709</td>\n",
       "      <td>3.96</td>\n",
       "      <td>WINTER</td>\n",
       "      <td>1</td>\n",
       "      <td>HIGH</td>\n",
       "    </tr>\n",
       "    <tr>\n",
       "      <th>4</th>\n",
       "      <td>365</td>\n",
       "      <td>2009-04-30</td>\n",
       "      <td>41.92</td>\n",
       "      <td>49.65</td>\n",
       "      <td>2147.856</td>\n",
       "      <td>1741.293</td>\n",
       "      <td>3.50</td>\n",
       "      <td>SPRING</td>\n",
       "      <td>0</td>\n",
       "      <td>HIGH</td>\n",
       "    </tr>\n",
       "  </tbody>\n",
       "</table>\n",
       "</div>"
      ],
      "text/plain": [
       "   Days       Date  AveCoalPrice  OilPrice  GrossGasProd  TotGasCons  GasPrice Weather  WSTAT GasPriceStatus\n",
       "0   245 2008-12-31         57.22     41.12      2227.028    2399.702      5.82  WINTER      1           HIGH\n",
       "1   276 2009-01-31         54.37     41.71      2251.938    2729.715      5.24  WINTER      1           HIGH\n",
       "2   304 2009-02-28         52.30     39.09      2074.167    2332.539      4.52  WINTER      1           HIGH\n",
       "3   335 2009-03-31         44.34     47.94      2262.488    2170.709      3.96  WINTER      1           HIGH\n",
       "4   365 2009-04-30         41.92     49.65      2147.856    1741.293      3.50  SPRING      0           HIGH"
      ]
     },
     "execution_count": 3,
     "metadata": {},
     "output_type": "execute_result"
    }
   ],
   "source": [
    "#load the data for analysis\n",
    "dflog=pd.read_excel(\"data/DataSet_GasPrice_ Outlier_Removed.xlsx\")\n",
    "dflog.head()"
   ]
  },
  {
   "cell_type": "code",
   "execution_count": null,
   "metadata": {
    "collapsed": true
   },
   "outputs": [],
   "source": [
    "# focus on the relationship between oil price and gas price\n",
    "dfpetr = df.column['OilP']"
   ]
  }
 ],
 "metadata": {
  "kernelspec": {
   "display_name": "Python 3",
   "language": "python",
   "name": "python3"
  },
  "language_info": {
   "codemirror_mode": {
    "name": "ipython",
    "version": 3
   },
   "file_extension": ".py",
   "mimetype": "text/x-python",
   "name": "python",
   "nbconvert_exporter": "python",
   "pygments_lexer": "ipython3",
   "version": "3.6.0"
  }
 },
 "nbformat": 4,
 "nbformat_minor": 2
}
