{
 "cells": [
  {
   "cell_type": "markdown",
   "metadata": {},
   "source": [
    "# Correlation matrix\n",
    "Correlation matrix is used to investigate the dependence between multiple variables at the same time. The result is a table containing the correlation coefficients between each variable and the others."
   ]
  },
  {
   "cell_type": "code",
   "execution_count": 1,
   "metadata": {
    "collapsed": true
   },
   "outputs": [],
   "source": [
    "from string import ascii_letters\n",
    "import numpy as np\n",
    "import pandas as pd\n",
    "import seaborn as sns\n",
    "import matplotlib.pyplot as plt"
   ]
  },
  {
   "cell_type": "code",
   "execution_count": 2,
   "metadata": {
    "collapsed": true
   },
   "outputs": [],
   "source": [
    "sns.set(style=\"white\")\n"
   ]
  },
  {
   "cell_type": "code",
   "execution_count": 3,
   "metadata": {
    "collapsed": false
   },
   "outputs": [
    {
     "data": {
      "text/html": [
       "<div>\n",
       "<table border=\"1\" class=\"dataframe\">\n",
       "  <thead>\n",
       "    <tr style=\"text-align: right;\">\n",
       "      <th></th>\n",
       "      <th>Days</th>\n",
       "      <th>Date</th>\n",
       "      <th>AveCoalPrice</th>\n",
       "      <th>OilPrice</th>\n",
       "      <th>GrossGasProd</th>\n",
       "      <th>TotGasCons</th>\n",
       "      <th>GasPrice</th>\n",
       "      <th>Weather</th>\n",
       "      <th>GasPriceStatus</th>\n",
       "    </tr>\n",
       "  </thead>\n",
       "  <tbody>\n",
       "    <tr>\n",
       "      <th>0</th>\n",
       "      <td>31</td>\n",
       "      <td>2008-05-31</td>\n",
       "      <td>75.85</td>\n",
       "      <td>125.40</td>\n",
       "      <td>2153.316</td>\n",
       "      <td>1576.387</td>\n",
       "      <td>11.27</td>\n",
       "      <td>SPRING</td>\n",
       "      <td>HIGH</td>\n",
       "    </tr>\n",
       "    <tr>\n",
       "      <th>1</th>\n",
       "      <td>61</td>\n",
       "      <td>2008-06-30</td>\n",
       "      <td>81.18</td>\n",
       "      <td>133.88</td>\n",
       "      <td>2118.791</td>\n",
       "      <td>1604.249</td>\n",
       "      <td>12.69</td>\n",
       "      <td>SUMMER</td>\n",
       "      <td>HIGH</td>\n",
       "    </tr>\n",
       "    <tr>\n",
       "      <th>2</th>\n",
       "      <td>92</td>\n",
       "      <td>2008-07-31</td>\n",
       "      <td>89.19</td>\n",
       "      <td>133.37</td>\n",
       "      <td>2205.260</td>\n",
       "      <td>1708.641</td>\n",
       "      <td>11.09</td>\n",
       "      <td>SUMMER</td>\n",
       "      <td>HIGH</td>\n",
       "    </tr>\n",
       "    <tr>\n",
       "      <th>3</th>\n",
       "      <td>123</td>\n",
       "      <td>2008-08-31</td>\n",
       "      <td>87.05</td>\n",
       "      <td>116.67</td>\n",
       "      <td>2193.566</td>\n",
       "      <td>1682.924</td>\n",
       "      <td>8.26</td>\n",
       "      <td>SUMMER</td>\n",
       "      <td>HIGH</td>\n",
       "    </tr>\n",
       "    <tr>\n",
       "      <th>4</th>\n",
       "      <td>153</td>\n",
       "      <td>2008-09-30</td>\n",
       "      <td>85.63</td>\n",
       "      <td>104.11</td>\n",
       "      <td>1919.520</td>\n",
       "      <td>1460.924</td>\n",
       "      <td>7.67</td>\n",
       "      <td>FALL</td>\n",
       "      <td>HIGH</td>\n",
       "    </tr>\n",
       "  </tbody>\n",
       "</table>\n",
       "</div>"
      ],
      "text/plain": [
       "   Days       Date  AveCoalPrice  OilPrice  GrossGasProd  TotGasCons  \\\n",
       "0    31 2008-05-31         75.85    125.40      2153.316    1576.387   \n",
       "1    61 2008-06-30         81.18    133.88      2118.791    1604.249   \n",
       "2    92 2008-07-31         89.19    133.37      2205.260    1708.641   \n",
       "3   123 2008-08-31         87.05    116.67      2193.566    1682.924   \n",
       "4   153 2008-09-30         85.63    104.11      1919.520    1460.924   \n",
       "\n",
       "   GasPrice Weather GasPriceStatus  \n",
       "0     11.27  SPRING           HIGH  \n",
       "1     12.69  SUMMER           HIGH  \n",
       "2     11.09  SUMMER           HIGH  \n",
       "3      8.26  SUMMER           HIGH  \n",
       "4      7.67    FALL           HIGH  "
      ]
     },
     "execution_count": 3,
     "metadata": {},
     "output_type": "execute_result"
    }
   ],
   "source": [
    "df=pd.read_excel(\"data/DataSet_GasPrice_ Monthly.xlsx\")\n",
    "df.head()"
   ]
  },
  {
   "cell_type": "code",
   "execution_count": 4,
   "metadata": {
    "collapsed": true
   },
   "outputs": [],
   "source": [
    "# Compute the correlation matrix\n",
    "corr = df.corr()"
   ]
  },
  {
   "cell_type": "code",
   "execution_count": 5,
   "metadata": {
    "collapsed": true
   },
   "outputs": [],
   "source": [
    "# Generate a mask for the upper triangle\n",
    "mask = np.zeros_like(corr, dtype=np.bool)\n",
    "mask[np.triu_indices_from(mask)] = True"
   ]
  },
  {
   "cell_type": "code",
   "execution_count": 6,
   "metadata": {
    "collapsed": true
   },
   "outputs": [],
   "source": [
    "# Set up the matplotlib figure\n",
    "f, ax = plt.subplots(figsize=(11, 9))"
   ]
  },
  {
   "cell_type": "code",
   "execution_count": 7,
   "metadata": {
    "collapsed": true
   },
   "outputs": [],
   "source": [
    "# Generate a custom diverging colormap\n",
    "cmap = sns.diverging_palette(220, 10, as_cmap=True)"
   ]
  },
  {
   "cell_type": "code",
   "execution_count": 9,
   "metadata": {
    "collapsed": false
   },
   "outputs": [
    {
     "data": {
      "text/plain": [
       "<matplotlib.axes._subplots.AxesSubplot at 0xa955358>"
      ]
     },
     "execution_count": 9,
     "metadata": {},
     "output_type": "execute_result"
    },
    {
     "data": {
      "image/png": "[encoded data removed]",
      "text/plain": [
       "<matplotlib.figure.Figure at 0xa94de10>"
      ]
     },
     "metadata": {},
     "output_type": "display_data"
    }
   ],
   "source": [
    "# Draw the heatmap with the mask and correct aspect ratio\n",
    "%matplotlib inline\n",
    "sns.heatmap(corr, mask=mask, cmap=cmap, vmax=.3, center=0,\n",
    "            square=True, linewidths=.5, cbar_kws={\"shrink\": .5})"
   ]
  },
  {
   "cell_type": "markdown",
   "metadata": {},
   "source": [
    "Positive correlations are displayed in red and negative correlations in blue color. Color intensity are proportional to the correlation coefficients. In the right side of the heatmap, the legend color shows the correlation coefficients and the corresponding colors.\n",
    "\n",
    "From the heatmap above, the correlations between the variables ranges from weak 0.2 to moderate 0.6. The negative correlation between time (Days) and Gas price seems to suggest that gas price has been on the decrease since 2008. The matrix also suggests that there is negative correlation between gas price and gas production/ gas consumption. While it could be suggested that increased gas supply tends to drive down gas prices, the dynamics that maintains low gas price as total consumption increases are not well known."
   ]
  }
 ],
 "metadata": {
  "kernelspec": {
   "display_name": "Python 3",
   "language": "python",
   "name": "python3"
  },
  "language_info": {
   "codemirror_mode": {
    "name": "ipython",
    "version": 3
   },
   "file_extension": ".py",
   "mimetype": "text/x-python",
   "name": "python",
   "nbconvert_exporter": "python",
   "pygments_lexer": "ipython3",
   "version": "3.6.0"
  }
 },
 "nbformat": 4,
 "nbformat_minor": 2
}
