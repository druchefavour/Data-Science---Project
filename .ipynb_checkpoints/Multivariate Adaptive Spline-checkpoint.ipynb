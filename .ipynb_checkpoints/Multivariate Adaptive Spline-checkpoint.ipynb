{
 "cells": [
  {
   "cell_type": "code",
   "execution_count": 1,
   "metadata": {
    "collapsed": false
   },
   "outputs": [],
   "source": [
    "import numpy as np\n",
    "from pyearth import Earth\n",
    "from matplotlib import pyplot"
   ]
  },
  {
   "cell_type": "code",
   "execution_count": 2,
   "metadata": {
    "collapsed": true
   },
   "outputs": [],
   "source": [
    "%matplotlib inline\n",
    "import seaborn as sns\n",
    "import pandas as pd"
   ]
  },
  {
   "cell_type": "code",
   "execution_count": 3,
   "metadata": {
    "collapsed": false
   },
   "outputs": [
    {
     "data": {
      "text/html": [
       "<div>\n",
       "<table border=\"1\" class=\"dataframe\">\n",
       "  <thead>\n",
       "    <tr style=\"text-align: right;\">\n",
       "      <th></th>\n",
       "      <th>Days</th>\n",
       "      <th>Date</th>\n",
       "      <th>AveCoalPrice</th>\n",
       "      <th>OilPrice</th>\n",
       "      <th>GrossGasProd</th>\n",
       "      <th>TotGasCons</th>\n",
       "      <th>GasPrice</th>\n",
       "      <th>Weather</th>\n",
       "      <th>WSTAT</th>\n",
       "      <th>GasPriceStatus</th>\n",
       "      <th>GPSAT</th>\n",
       "      <th>color</th>\n",
       "    </tr>\n",
       "  </thead>\n",
       "  <tbody>\n",
       "    <tr>\n",
       "      <th>0</th>\n",
       "      <td>245</td>\n",
       "      <td>2008-12-31</td>\n",
       "      <td>57.22</td>\n",
       "      <td>41.12</td>\n",
       "      <td>2227.028</td>\n",
       "      <td>2399.702</td>\n",
       "      <td>5.82</td>\n",
       "      <td>WINTER</td>\n",
       "      <td>1</td>\n",
       "      <td>HIGH</td>\n",
       "      <td>1</td>\n",
       "      <td>1</td>\n",
       "    </tr>\n",
       "    <tr>\n",
       "      <th>1</th>\n",
       "      <td>276</td>\n",
       "      <td>2009-01-31</td>\n",
       "      <td>54.37</td>\n",
       "      <td>41.71</td>\n",
       "      <td>2251.938</td>\n",
       "      <td>2729.715</td>\n",
       "      <td>5.24</td>\n",
       "      <td>WINTER</td>\n",
       "      <td>1</td>\n",
       "      <td>HIGH</td>\n",
       "      <td>1</td>\n",
       "      <td>1</td>\n",
       "    </tr>\n",
       "    <tr>\n",
       "      <th>2</th>\n",
       "      <td>304</td>\n",
       "      <td>2009-02-28</td>\n",
       "      <td>52.30</td>\n",
       "      <td>39.09</td>\n",
       "      <td>2074.167</td>\n",
       "      <td>2332.539</td>\n",
       "      <td>4.52</td>\n",
       "      <td>WINTER</td>\n",
       "      <td>1</td>\n",
       "      <td>HIGH</td>\n",
       "      <td>1</td>\n",
       "      <td>1</td>\n",
       "    </tr>\n",
       "    <tr>\n",
       "      <th>3</th>\n",
       "      <td>335</td>\n",
       "      <td>2009-03-31</td>\n",
       "      <td>44.34</td>\n",
       "      <td>47.94</td>\n",
       "      <td>2262.488</td>\n",
       "      <td>2170.709</td>\n",
       "      <td>3.96</td>\n",
       "      <td>WINTER</td>\n",
       "      <td>1</td>\n",
       "      <td>HIGH</td>\n",
       "      <td>1</td>\n",
       "      <td>1</td>\n",
       "    </tr>\n",
       "    <tr>\n",
       "      <th>4</th>\n",
       "      <td>365</td>\n",
       "      <td>2009-04-30</td>\n",
       "      <td>41.92</td>\n",
       "      <td>49.65</td>\n",
       "      <td>2147.856</td>\n",
       "      <td>1741.293</td>\n",
       "      <td>3.50</td>\n",
       "      <td>SPRING</td>\n",
       "      <td>0</td>\n",
       "      <td>HIGH</td>\n",
       "      <td>1</td>\n",
       "      <td>1</td>\n",
       "    </tr>\n",
       "  </tbody>\n",
       "</table>\n",
       "</div>"
      ],
      "text/plain": [
       "   Days       Date  AveCoalPrice  OilPrice  GrossGasProd  TotGasCons  \\\n",
       "0   245 2008-12-31         57.22     41.12      2227.028    2399.702   \n",
       "1   276 2009-01-31         54.37     41.71      2251.938    2729.715   \n",
       "2   304 2009-02-28         52.30     39.09      2074.167    2332.539   \n",
       "3   335 2009-03-31         44.34     47.94      2262.488    2170.709   \n",
       "4   365 2009-04-30         41.92     49.65      2147.856    1741.293   \n",
       "\n",
       "   GasPrice Weather  WSTAT GasPriceStatus  GPSAT  color  \n",
       "0      5.82  WINTER      1           HIGH      1      1  \n",
       "1      5.24  WINTER      1           HIGH      1      1  \n",
       "2      4.52  WINTER      1           HIGH      1      1  \n",
       "3      3.96  WINTER      1           HIGH      1      1  \n",
       "4      3.50  SPRING      0           HIGH      1      1  "
      ]
     },
     "execution_count": 3,
     "metadata": {},
     "output_type": "execute_result"
    }
   ],
   "source": [
    "# Read the data set\n",
    "df=pd.read_excel(\"data/DataSet_GasPrice_ Outlier_Removed.xlsx\")\n",
    "df.head()"
   ]
  },
  {
   "cell_type": "markdown",
   "metadata": {},
   "source": [
    "GasPrice vs AveCoalPrice\n",
    "In this case, gas price will be regressed against average coal price\n",
    "\n"
   ]
  },
  {
   "cell_type": "code",
   "execution_count": 4,
   "metadata": {
    "collapsed": false
   },
   "outputs": [],
   "source": [
    "# Use only one feature\n",
    "x = df.AveCoalPrice[:, np.newaxis]\n",
    "X = x[:,]\n",
    "y = df.GasPrice"
   ]
  },
  {
   "cell_type": "code",
   "execution_count": 5,
   "metadata": {
    "collapsed": false
   },
   "outputs": [
    {
     "data": {
      "text/plain": [
       "Earth(allow_linear=None, allow_missing=False, check_every=None,\n",
       "   enable_pruning=True, endspan=None, endspan_alpha=None, fast_K=None,\n",
       "   fast_h=None, feature_importance_type=None, max_degree=None,\n",
       "   max_terms=None, min_search_points=None, minspan=None,\n",
       "   minspan_alpha=None, penalty=None, smooth=None, thresh=None,\n",
       "   use_fast=None, verbose=0, zero_tol=None)"
      ]
     },
     "execution_count": 5,
     "metadata": {},
     "output_type": "execute_result"
    }
   ],
   "source": [
    "#Fit an Earth model\n",
    "model = Earth()\n",
    "model.fit(X,y)"
   ]
  },
  {
   "cell_type": "code",
   "execution_count": 6,
   "metadata": {
    "collapsed": false
   },
   "outputs": [
    {
     "name": "stdout",
     "output_type": "stream",
     "text": [
      "Forward Pass\n",
      "----------------------------------------------------------------\n",
      "iter  parent  var  knot  mse       terms  gcv    rsq    grsq    \n",
      "----------------------------------------------------------------\n",
      "0     -       -    -     0.828287  1      0.844  0.000  0.000   \n",
      "1     0       0    -1    0.522311  2      0.559  0.369  0.338   \n",
      "2     0       0    64    0.509846  4      0.605  0.384  0.284   \n",
      "3     0       0    2     0.484498  6      0.640  0.415  0.242   \n",
      "4     0       0    16    0.478817  8      0.708  0.422  0.161   \n",
      "5     0       0    22    0.474484  10     0.792  0.427  0.062   \n",
      "6     0       0    18    0.467509  12     0.887  0.436  -0.050  \n",
      "7     0       0    54    0.465779  14     1.014  0.438  -0.200  \n",
      "----------------------------------------------------------------\n",
      "Stopping Condition 0: Reached maximum number of terms\n",
      "\n",
      "Pruning Pass\n",
      "----------------------------------------------\n",
      "iter  bf  terms  mse   gcv    rsq     grsq    \n",
      "----------------------------------------------\n",
      "0     -   14     0.47  1.014  0.438   -0.200  \n",
      "1     5   13     0.47  0.945  0.438   -0.120  \n",
      "2     11  12     0.47  0.884  0.438   -0.047  \n",
      "3     7   11     0.47  0.828  0.438   0.019   \n",
      "4     13  10     0.47  0.777  0.438   0.079   \n",
      "5     2   9      0.47  0.731  0.438   0.134   \n",
      "6     1   8      0.47  0.689  0.438   0.184   \n",
      "7     12  7      0.47  0.653  0.436   0.227   \n",
      "8     8   6      0.47  0.618  0.435   0.268   \n",
      "9     4   5      0.47  0.590  0.431   0.302   \n",
      "10    10  4      0.49  0.581  0.409   0.313   \n",
      "11    9   3      0.51  0.574  0.385   0.320   \n",
      "12    6   2      0.53  0.568  0.359   0.327   \n",
      "13    3   1      0.83  0.844  -0.000  -0.000  \n",
      "----------------------------------------------\n",
      "Selected iteration: 12\n",
      "\n",
      "Earth Model\n",
      "-------------------------------------\n",
      "Basis Function  Pruned  Coefficient  \n",
      "-------------------------------------\n",
      "(Intercept)     No      3.97374      \n",
      "x0              Yes     None         \n",
      "h(x0-44.904)    Yes     None         \n",
      "h(44.904-x0)    No      -0.132362    \n",
      "h(x0-52.3)      Yes     None         \n",
      "h(52.3-x0)      Yes     None         \n",
      "h(x0-44.78)     Yes     None         \n",
      "h(44.78-x0)     Yes     None         \n",
      "h(x0-48.9)      Yes     None         \n",
      "h(48.9-x0)      Yes     None         \n",
      "h(x0-46.76)     Yes     None         \n",
      "h(46.76-x0)     Yes     None         \n",
      "h(x0-45.19)     Yes     None         \n",
      "h(45.19-x0)     Yes     None         \n",
      "-------------------------------------\n",
      "MSE: 0.5307, GCV: 0.5683, RSQ: 0.3593, GRSQ: 0.3271\n"
     ]
    }
   ],
   "source": [
    "#Print the model\n",
    "print(model.trace())\n",
    "print(model.summary())"
   ]
  },
  {
   "cell_type": "code",
   "execution_count": 11,
   "metadata": {
    "collapsed": false
   },
   "outputs": [
    {
     "data": {
      "image/png": "[encoded data removed]",
      "text/plain": [
       "<matplotlib.figure.Figure at 0xaf66b38>"
      ]
     },
     "metadata": {},
     "output_type": "display_data"
    }
   ],
   "source": [
    "#Plot the model\n",
    "y_hat = model.predict(X)\n",
    "pyplot.figure()\n",
    "pyplot.plot(X[:,0],y,'r.')\n",
    "pyplot.plot(X[:,0],y_hat,'b.')\n",
    "pyplot.xlabel('x_0')\n",
    "pyplot.ylabel('y')\n",
    "pyplot.title('Simple Earth Example')\n",
    "pyplot.show()"
   ]
  },
  {
   "cell_type": "code",
   "execution_count": null,
   "metadata": {
    "collapsed": true
   },
   "outputs": [],
   "source": []
  }
 ],
 "metadata": {
  "kernelspec": {
   "display_name": "Python 3",
   "language": "python",
   "name": "python3"
  },
  "language_info": {
   "codemirror_mode": {
    "name": "ipython",
    "version": 3
   },
   "file_extension": ".py",
   "mimetype": "text/x-python",
   "name": "python",
   "nbconvert_exporter": "python",
   "pygments_lexer": "ipython3",
   "version": "3.6.0"
  }
 },
 "nbformat": 4,
 "nbformat_minor": 2
}
